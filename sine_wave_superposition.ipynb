{
 "cells": [
  {
   "cell_type": "code",
   "execution_count": 1,
   "id": "15a2d042",
   "metadata": {},
   "outputs": [],
   "source": [
    "%matplotlib tk"
   ]
  },
  {
   "cell_type": "markdown",
   "id": "1e4fd791",
   "metadata": {},
   "source": [
    "### Sine wave superposition"
   ]
  },
  {
   "cell_type": "markdown",
   "id": "fa93b5b7",
   "metadata": {},
   "source": [
    "Modeling and visualization of the superposition principle for two traveling sine waves by definition of the general form y(t) = Asin(ωt)"
   ]
  },
  {
   "cell_type": "code",
   "execution_count": 2,
   "id": "319eaa90",
   "metadata": {},
   "outputs": [],
   "source": [
    "# Author: Sebastian Mag. | Date: Oct 06/2022\n",
    "# Source code: https://github.com/cmd098/sine-wave-superposition"
   ]
  },
  {
   "cell_type": "markdown",
   "id": "9d4a5072",
   "metadata": {},
   "source": [
    "#### Requirements | Importing libraries"
   ]
  },
  {
   "cell_type": "code",
   "execution_count": 3,
   "id": "e7469800",
   "metadata": {},
   "outputs": [],
   "source": [
    "from matplotlib.animation import FuncAnimation\n",
    "import matplotlib, matplotlib.pyplot as plt\n",
    "import seaborn as sns\n",
    "import numpy as np"
   ]
  },
  {
   "cell_type": "code",
   "execution_count": 4,
   "id": "832204a8",
   "metadata": {},
   "outputs": [
    {
     "name": "stdout",
     "output_type": "stream",
     "text": [
      "Matplotlib 3.6.0\n",
      "Seaborn 0.12.0\n",
      "NumPy 1.23.3\n"
     ]
    }
   ],
   "source": [
    "print('Matplotlib', matplotlib.__version__)\n",
    "print('Seaborn', sns.__version__)\n",
    "print('NumPy', np.__version__)"
   ]
  },
  {
   "cell_type": "code",
   "execution_count": 5,
   "id": "52be0490",
   "metadata": {},
   "outputs": [],
   "source": [
    "# Set custom matplotlib default font\n",
    "plt.rcParams['font.family'] = 'STIXGeneral'\n",
    "plt.rcParams['mathtext.fontset'] = 'stix'"
   ]
  },
  {
   "cell_type": "code",
   "execution_count": 10,
   "id": "da9ee663",
   "metadata": {},
   "outputs": [],
   "source": [
    "def plot_wave_superposition(wa1, wf1, wa2, wf2, ipw1=False, ipw2=False):\n",
    "    \"\"\"\n",
    "    Models two traveling sine waves by definition of the General form y(t) = Asin(ωt)\n",
    "    and plots their superposition and resultant wave\n",
    "\n",
    "    Args:\n",
    "        wa1 (float, Positve): Wave 1 - Amplitude in mm\n",
    "        wf1 (float, Real): Wave 1 - Frequency in Hz\n",
    "        wa2 (float, Positive): Wave 2 - Amplitude in mm\n",
    "        wf2 (float, Real): Wave 2 - Frequency in Hz\n",
    "\n",
    "        ipw1 (bool, [optional]): Wave 1 - Inverts wave polarity [Defaults to False]\n",
    "        ipw2 (bool, [optional]): Wave 2 - Inverts wave polarity [Defaults to False]\n",
    "\n",
    "    About wave modeling:\n",
    "        Positive frequencies will be displayed as leftward traveling\n",
    "        Negative frequencies will be displayed as rightward traveling\n",
    "        Inverting the polarity will shift the wave phase by 180°\n",
    "    \"\"\"\n",
    "\n",
    "    # Initialize figure and axes\n",
    "\n",
    "    sns.set_theme()\n",
    "    fig, ax = plt.subplots(2, 2, figsize=(15, 6), sharex='all')\n",
    "    fig.subplots_adjust(wspace=0.15, hspace=0.4)\n",
    "    fig.subplots_adjust(top=0.79)\n",
    "\n",
    "    # Initialize objects to animate\n",
    "\n",
    "    w1, = ax[0, 0].plot([], [], color='#7383c3')  # wave 1\n",
    "    w2, = ax[1, 0].plot([], [], color='#71768b')  # wave 2\n",
    "    sw1, = ax[0, 1].plot([], [], color='#7383c3')  # superposed wave 1\n",
    "    sw2, = ax[0, 1].plot([], [], color='#71768b')  # superposed wave 2\n",
    "    rw, = ax[1, 1].plot([], [], color='#53587a')  # resultant wave\n",
    "\n",
    "    # Set axes ticks, labels and limits\n",
    "\n",
    "    wa = [abs(wa1), abs(wa2)]  # wave amplitudes\n",
    "\n",
    "    plt.setp(ax, xlim=(0, 5), ylim=(-(sum(wa) + 2), sum(wa) + 2))\n",
    "\n",
    "    for x in range(2):\n",
    "        for y in range(2):\n",
    "            ax[x, y].set_yticks(np.linspace(-sum(wa), sum(wa), 7))\n",
    "            ax[x, y].yaxis.set_major_formatter(plt.FormatStrFormatter('%.1f'))\n",
    "\n",
    "    ax[1, 0].set_xticks(np.arange(0, 5, 1))\n",
    "    ax[1, 0].set_xticklabels([l.get_text() + r'$x 10^{-2}$' for l in ax[1, 1].get_xticklabels()])\n",
    "\n",
    "    plt.setp(ax[1, 0].get_xticklabels()[0], visible=False)\n",
    "    plt.setp(ax[1, 1].get_xticklabels()[0], visible=False)\n",
    "\n",
    "    # Sine wave modeling - General form as a function of time (t)\n",
    "    x = np.arange(0.05, 4.95, 0.001)  # t=5.10^-2 s; (5 cs)\n",
    "\n",
    "    def animate(i):\n",
    "\n",
    "        # y(t) = Asin(ωt); ω = 2πf\n",
    "\n",
    "        p = -1 if ipw1 else 1\n",
    "        w1y = wa1 * p * np.sin((2 * np.pi * (wf1 * 0.01)) * x + 0.17 * i)\n",
    "        p = -1 if ipw2 else 1\n",
    "        w2y = wa2 * p * np.sin((2 * np.pi * (wf2 * 0.01)) * x + 0.17 * i)\n",
    "\n",
    "        w1.set_data(x, w1y)\n",
    "        w2.set_data(x, w2y)\n",
    "        sw1.set_data(x, w1y)\n",
    "        sw2.set_data(x, w2y)\n",
    "        rw.set_data(x, w1y + w2y)\n",
    "\n",
    "        return w1, w2, sw1, sw2, rw\n",
    "\n",
    "    # Add titles and labels\n",
    "\n",
    "    fig.suptitle('Superposition of Sine waves', size=18, x=0.23)\n",
    "    plt.figtext(0.125, 0.89, r'$y_(t) = A\\sin(\\omega t+ \\varphi)$', fontsize=14)\n",
    "\n",
    "    fig.supxlabel('Time (s)')\n",
    "    fig.supylabel('Displacement (mm)', x=0.06)\n",
    "\n",
    "    direction = 'longrightarrow' if (wf1 < 0) else 'longleftarrow'\n",
    "    ax[0, 0].set_title(r'$W_1$ | Frequency: {0} Hz | Amplitude: {1} mm |  $\\{2}$'\n",
    "                       .format(abs(wf1), wa1, direction), size=14, pad=16, loc='left')\n",
    "    direction = 'longrightarrow' if (wf2 < 0) else 'longleftarrow'\n",
    "    ax[1, 0].set_title(r'$W_2$ | Frequency: {0} Hz | Amplitude: {1} mm |  $\\{2}$'\n",
    "                       .format(abs(wf2), wa2, direction), size=14, pad=16, loc='left')\n",
    "\n",
    "    ax[0, 1].set_title(r'Wave superposition | $W_1 + W_2$', size=14, pad=16, loc='left')\n",
    "    ax[1, 1].set_title(r'Resultant wave | $W_R = W_1 + W_2$', size=14, pad=16, loc='left')\n",
    "\n",
    "    animation = FuncAnimation(fig, animate, frames=200, interval=25, blit=True)\n",
    "    file_name = f'Sine wave superposition (w1A={wa1}mm, w1f={wf1}Hz) + (w2A={wa2}mm, w2f={wf2}Hz)'\n",
    "\n",
    "    # Save animation (.gif)\n",
    "    # animation.save(f'{file_name}.gif', writer='pillow', fps=30, dpi=120)\n",
    "\n",
    "    # Save last frame as an image (.png)\n",
    "    # fig.savefig(f'{file_name}.png', bbox_inches='tight', pad_inches=0.3, dpi=140)\n",
    "    \n",
    "    # Display figure\n",
    "    plt.show()\n",
    "    \n",
    "    return animation"
   ]
  },
  {
   "cell_type": "markdown",
   "id": "da05b8ce",
   "metadata": {},
   "source": [
    "<font color='#f6f6f6'>██████████████████████████████████████████████████████████████████████████████████████████████</font>"
   ]
  },
  {
   "cell_type": "markdown",
   "id": "03c2fa73",
   "metadata": {},
   "source": [
    "#### Implementation"
   ]
  },
  {
   "cell_type": "code",
   "execution_count": 11,
   "id": "cd82a15d",
   "metadata": {},
   "outputs": [
    {
     "data": {
      "text/plain": [
       "<matplotlib.animation.FuncAnimation at 0x2b8ee6b2500>"
      ]
     },
     "execution_count": 11,
     "metadata": {},
     "output_type": "execute_result"
    }
   ],
   "source": [
    "plot_wave_superposition(10, 140, 10, -140)"
   ]
  },
  {
   "cell_type": "code",
   "execution_count": 12,
   "id": "b3d6c0a9",
   "metadata": {},
   "outputs": [
    {
     "data": {
      "text/plain": [
       "<matplotlib.animation.FuncAnimation at 0x2b8ee7ed6f0>"
      ]
     },
     "execution_count": 12,
     "metadata": {},
     "output_type": "execute_result"
    }
   ],
   "source": [
    "plot_wave_superposition(10, 180, 10, 180, True)"
   ]
  }
 ],
 "metadata": {
  "kernelspec": {
   "display_name": "Python 3.10.4 (py-ds)",
   "language": "python",
   "name": "py-ds"
  },
  "language_info": {
   "codemirror_mode": {
    "name": "ipython",
    "version": 3
   },
   "file_extension": ".py",
   "mimetype": "text/x-python",
   "name": "python",
   "nbconvert_exporter": "python",
   "pygments_lexer": "ipython3",
   "version": "3.10.4"
  }
 },
 "nbformat": 4,
 "nbformat_minor": 5
}
