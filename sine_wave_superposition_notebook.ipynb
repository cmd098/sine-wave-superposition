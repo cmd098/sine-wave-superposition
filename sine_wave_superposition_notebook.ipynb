{
 "cells": [
  {
   "cell_type": "markdown",
   "id": "82094bad",
   "metadata": {},
   "source": [
    "<font color='#f6f6f6'>█████████████████████████████████████████████████████████████████████████████████████</font>"
   ]
  },
  {
   "cell_type": "markdown",
   "id": "1e4fd791",
   "metadata": {},
   "source": [
    "### One-Dimensional Superposition of Sine Waves"
   ]
  },
  {
   "cell_type": "markdown",
   "id": "3f8d7bda",
   "metadata": {},
   "source": [
    "Modeling and Visualization of linear superposition of waveforms and resultant interference patterns"
   ]
  },
  {
   "cell_type": "markdown",
   "id": "3bf564f0",
   "metadata": {},
   "source": [
    "- Author: Sebastian Mag | August 2023\n",
    "- [GitHub Repository](https://github.com/ssebastianmag/sine-wave-superposition)\n"
   ]
  },
  {
   "cell_type": "markdown",
   "id": "d4ade258",
   "metadata": {},
   "source": [
    "#### Requirements | Import Dependencies"
   ]
  },
  {
   "cell_type": "code",
   "execution_count": 1,
   "id": "d2f612d0",
   "metadata": {},
   "outputs": [],
   "source": [
    "from matplotlib.colors import LinearSegmentedColormap\n",
    "from matplotlib.animation import FuncAnimation\n",
    "import matplotlib, matplotlib.pyplot as plt\n",
    "import seaborn as sns\n",
    "import numpy as np"
   ]
  },
  {
   "cell_type": "code",
   "execution_count": 2,
   "id": "c052f779",
   "metadata": {
    "scrolled": true
   },
   "outputs": [
    {
     "name": "stdout",
     "output_type": "stream",
     "text": [
      "Matplotlib 3.7.2\n",
      "Seaborn 0.12.2\n",
      "NumPy 1.25.2\n"
     ]
    }
   ],
   "source": [
    "print('Matplotlib', matplotlib.__version__)\n",
    "print('Seaborn', sns.__version__)\n",
    "print('NumPy', np.__version__)"
   ]
  },
  {
   "cell_type": "markdown",
   "id": "9b6c6589",
   "metadata": {},
   "source": [
    "<font color='#f6f6f6'>█████████████████████████████████████████████████████████████████████████████████████</font>"
   ]
  },
  {
   "cell_type": "markdown",
   "id": "841c7bd8",
   "metadata": {},
   "source": [
    "#### Sine Wave Equation Modeling"
   ]
  },
  {
   "cell_type": "markdown",
   "id": "66eec28f",
   "metadata": {},
   "source": [
    "The sine wave equation in one-dimension can be represented as:\n",
    "\n",
    "### $y(x, t) = A \\sin(kx \\pm \\omega t + \\phi)$ \n",
    "\n",
    "where:\n",
    "\n",
    "$y(x,t)$, is the wave displacement at position $x$ and time $t$\n",
    "\n",
    "$A$, is the amplitude\n",
    "\n",
    "$k = \\frac{2\\pi}{\\lambda}$, is the wave number\n",
    "\n",
    "$\\omega = 2\\pi f$, is the angular frequency\n",
    "\n",
    "$\\phi$, is the phase offset\n",
    "\n",
    "$+$ or $−$, depends on the direction of propagation (right or left)\n"
   ]
  },
  {
   "cell_type": "code",
   "execution_count": 3,
   "id": "8957be7a",
   "metadata": {},
   "outputs": [],
   "source": [
    "def model_sinewave(x, t, A, wavelength, frequency, phi=0, propagation='right', phase_polarity='positive'):\n",
    "    \"\"\" Calculate the displacement of a 1D sine wave at positions x and time t.\n",
    "        Args:\n",
    "            x (numpy.ndarray): positions at which the wave is evaluated (m)\n",
    "            t (float): time at which the wave is evaluated (s)\n",
    "            A (float): amplitude (m)\n",
    "            wavelength (float): wavelength (m)\n",
    "            frequency (float): frequency (Hz)\n",
    "            phi (float, optional): phase offset of the wave (radians)\n",
    "            propagation (str, optional): (x-axis) direction of wave propagation ('right' or 'left')\n",
    "            phase_polarity (str, optional): (y-axis) vertical flipping of the wave ('positive' or 'negative')\n",
    "        Returns:\n",
    "            numpy.ndarray: wave displacement at a given position and time\n",
    "    \"\"\"\n",
    "\n",
    "    # Wave number and Angular frequency\n",
    "    k = 2 * np.pi / wavelength\n",
    "    omega = 2 * np.pi * frequency\n",
    "\n",
    "    # Phase polarity and Propagation direction factor\n",
    "    polarity = 1 if phase_polarity.lower() == 'positive' else -1\n",
    "    propagation_factor = -1 if propagation.lower() == 'right' else 1\n",
    "\n",
    "    # Evaluate the sine wave at given x and t\n",
    "    # y(x, t) = (+-) A * sin(k * x (+-) omega * t + phi)\n",
    "    return polarity * A * np.sin(k * x + propagation_factor * omega * t + phi)\n"
   ]
  },
  {
   "cell_type": "markdown",
   "id": "5b4c6d32",
   "metadata": {},
   "source": [
    "| Parameter      | Description                                                                            | Type              |\n",
    "|:---------------|:---------------------------------------------------------------------------------------|:------------------|\n",
    "| x              | Positions of the wave ($x$): Positions where the wave is evaluated (m)                 | numpy.ndarray     |\n",
    "| t              | Time of evaluation ($t$): Time at which the wave is evaluated (s)                      | float             |\n",
    "| A              | Amplitude ($A$): Maximum displacement from equilibrium (m)                             | float             |\n",
    "| wavelength     | Wavelength ($\\lambda$): Length of one complete wave cycle (m)                          | float             |\n",
    "| frequency      | Frequency ($f$): Number of oscillations per second (Hz)                                | float             |\n",
    "| phi            | Phase offset ($\\phi$): Shifts the wave horizontally (radians)                          | float (optional)  |\n",
    "| propagation    | Propagation direction (x-axis): 'right' for positive, 'left' for negative              | string (optional) |\n",
    "| phase_polarity | Phase polarity (y-axis): 'positive' retains form, 'negative' flips the wave vertically | string (optional) |\n"
   ]
  },
  {
   "cell_type": "markdown",
   "id": "4b1935f6",
   "metadata": {},
   "source": [
    "<font color='#f6f6f6'>█████████████████████████████████████████████████████████████████████████████████████</font>"
   ]
  },
  {
   "cell_type": "markdown",
   "id": "ad9096e3",
   "metadata": {},
   "source": [
    "#### Sine Wave Superposition Animation"
   ]
  },
  {
   "cell_type": "markdown",
   "id": "7948745f",
   "metadata": {},
   "source": [
    "The superposition principle states that when two or more waves overlap in space, \n",
    "the resultant wave is the algebraic sum of their individual waves. When two waves $W_1$ and $W_2$ interfere, the resultant wave $W_R$ can be given by:\n",
    "\n",
    "### $W_R(x, t) = W_1(x, t) + W_2(x, t)$"
   ]
  },
  {
   "cell_type": "code",
   "execution_count": 4,
   "id": "0ad31f95",
   "metadata": {},
   "outputs": [],
   "source": [
    "def plot_wave_superposition(wave_1_params, wave_2_params, dark_theme=False):\n",
    "    \"\"\" Plot and animate the superposition of two 1D waves.\n",
    "        Args:\n",
    "            wave_1_params (dict): W1, wave 1 parameters\n",
    "            wave_2_params (dict): W2, wave 2 parameters\n",
    "            dark_theme (bool, optional): if True, uses a dark background for the plot\n",
    "    \"\"\"\n",
    "\n",
    "    # Custom settings for plot aesthetics\n",
    "    sns.set_theme()\n",
    "    plt.rcParams['font.family'] = 'STIXGeneral'\n",
    "    plt.rcParams['mathtext.fontset'] = 'stix'\n",
    "    if dark_theme:\n",
    "        plt.style.use('dark_background')\n",
    "        plt.rcParams.update({'grid.linewidth': 0.5, 'grid.alpha': 0.2})\n",
    "\n",
    "    # Custom colormaps\n",
    "    wave_1_cm = LinearSegmentedColormap.from_list(\n",
    "        'wave_1_cm', colors=['#3c3060', '#3480a4', '#3c3060'], N=100\n",
    "    )\n",
    "    wave_2_cm = LinearSegmentedColormap.from_list(\n",
    "        'wave_2_cm', colors=['#581e4f', '#d2204c', '#581e4f'], N=100\n",
    "    )\n",
    "    superposition_cm = LinearSegmentedColormap.from_list(\n",
    "        'superposition_cm', colors=['#ddd7d7', '#3480a4', '#ddd7d7', '#d2204c', '#ddd7d7'], N=100)\n",
    "\n",
    "    # Update function to animate the plot\n",
    "    def update(num):\n",
    "        # Adjust time step based on max frequency\n",
    "        max_frequency = max(wave_1_params['frequency'], wave_2_params['frequency'])\n",
    "        t = num * 0.025 / max_frequency\n",
    "\n",
    "        # Calculate y-values for Wave 1, Wave 2, and Resultant Wave (Superposition)\n",
    "        yw1 = model_sinewave(x, t, **wave_1_params)\n",
    "        yw2 = model_sinewave(x, t, **wave_2_params)\n",
    "        ywr = yw1 + yw2\n",
    "\n",
    "        # Get custom color map colors for each object\n",
    "        norm_val = num / 200\n",
    "        wave_1_color = wave_1_cm(norm_val)\n",
    "        wave_2_color = wave_2_cm(norm_val)\n",
    "        superposition_color = superposition_cm(norm_val)\n",
    "\n",
    "        # Update y-values and colors\n",
    "        w1.set_ydata(yw1)  # Wave 1\n",
    "        w1.set_color(wave_1_color)\n",
    "\n",
    "        w2.set_ydata(yw2)  # Wave 2\n",
    "        w2.set_color(wave_2_color)\n",
    "\n",
    "        w1sp.set_ydata(yw1)  # W1 superimposed pattern\n",
    "        w1sp.set_color(wave_1_color)\n",
    "\n",
    "        w2sp.set_ydata(yw2)  # W2 superimposed pattern\n",
    "        w2sp.set_color(wave_2_color)\n",
    "\n",
    "        wr.set_ydata(ywr)  # Resultant wave\n",
    "        wr.set_color(superposition_color)\n",
    "\n",
    "        # Return updated line objects for animation\n",
    "        return w1, w2, w1sp, w2sp, wr\n",
    "\n",
    "    #  Function to set y-axis ticks and limits\n",
    "    def set_axis_yticks_and_limits(subplot_ax, amplitude):\n",
    "        y_ticks = np.linspace(-amplitude * 1.5, amplitude * 1.5, 7)\n",
    "        subplot_ax.set_ylim(-amplitude * 1.5, amplitude * 1.5)\n",
    "        subplot_ax.set_yticks(y_ticks)\n",
    "\n",
    "    # Initialize plot figure\n",
    "    fig, ax = plt.subplots(2, 2, figsize=(15, 7))\n",
    "    fig.subplots_adjust(wspace=0.15, hspace=1)\n",
    "    fig.subplots_adjust(top=0.76, bottom=0.14)\n",
    "\n",
    "    # Set the x-axis range based on the maximum wavelength\n",
    "    n = 500\n",
    "    max_wavelength = max(wave_1_params['wavelength'], wave_2_params['wavelength'])\n",
    "    x = np.linspace(0, 8 * max_wavelength, n)\n",
    "\n",
    "    # Initialize line objects for animation\n",
    "    w1, = ax[0, 0].plot(x, np.zeros(n), color='#7383c3', )  # Wave 1\n",
    "    w2, = ax[1, 0].plot(x, np.zeros(n), color='#71768b')  # Wave 2\n",
    "    w1sp, = ax[0, 1].plot(x, np.zeros(n), color='#7383c3', linestyle=':')  # W1 superimposed pattern\n",
    "    w2sp, = ax[0, 1].plot(x, np.zeros(n), color='#71768b', linestyle=':')  # W2 superimposed pattern\n",
    "    wr, = ax[1, 1].plot(x, np.zeros(n), color='#53587a')  # Resultant wave (Superposition)\n",
    "\n",
    "    # Set y-limits and y-ticks for W1 and W2\n",
    "    set_axis_yticks_and_limits(ax[0, 0], wave_1_params['A'])\n",
    "    set_axis_yticks_and_limits(ax[1, 0],  wave_2_params['A'])\n",
    "\n",
    "    # Set y-limits and y-ticks for superimposed pattern and resultant wave\n",
    "    set_axis_yticks_and_limits(ax[0, 1], max(wave_1_params['A'], wave_2_params['A']))\n",
    "    set_axis_yticks_and_limits(ax[1, 1], wave_1_params['A'] + wave_2_params['A'])\n",
    "\n",
    "    # Set x-ticks at every half max wavelength\n",
    "    xticks = np.arange(0, 8 * max_wavelength + 1, max_wavelength // 1)\n",
    "    for subplot in ax.flatten():\n",
    "        subplot.set_xticks(xticks)\n",
    "        subplot.set_xticklabels(['{:.1f}'.format(tick) for tick in subplot.get_xticks()])\n",
    "        subplot.set_yticklabels(['{:.1f}'.format(tick) for tick in subplot.get_yticks()])\n",
    "\n",
    "    # Add title and subtitle\n",
    "    fig.suptitle('One-Dimensional Superposition of Sine Waves', size=17, x=0.272)\n",
    "    fig.text(0.123, 0.915, (\n",
    "        'Wave Dynamics: Linear Superposition of Waveforms and Resultant Interference Patterns.'\n",
    "    ), size=11, color='#c5c5c5' if dark_theme else '#4e4e4e')\n",
    "\n",
    "    # Add [0, 0] and [1, 0] subplot titles\n",
    "    for iteration, params in enumerate([wave_1_params, wave_2_params]):\n",
    "        propagation = 'rightarrow' if params['propagation'].lower() == 'right' else 'leftarrow'\n",
    "        propagation_operator = '-' if params['propagation'].lower() == 'right' else '+'\n",
    "        phase_polarity_operator = '-' if params['phase_polarity'].lower() == 'negative' else ''\n",
    "        wave_num = iteration + 1\n",
    "\n",
    "        ax[iteration, 0].text(0, 1.4, (\n",
    "            r'Wave {0} ($\\{3}$): $\\quad W_{0}(x, t) = {1} A \\sin(k x {2} \\omega t + \\phi)$'\n",
    "            .format(wave_num, phase_polarity_operator, propagation_operator, propagation)\n",
    "        ), size=14, transform=ax[iteration, 0].transAxes)\n",
    "\n",
    "        ax[iteration, 0].text(0, 1.11, (\n",
    "            r'$A_{0} = {1:.2f} \\, m, \\quad f_{0} = {2:.2f} \\, Hz,'\n",
    "            r' \\quad \\lambda_{0} = {3:.2f} \\, m, \\quad \\phi_{0} = {4:.4f}$'\n",
    "            .format(wave_num, params['A'], params['frequency'], params['wavelength'], params['phi'])\n",
    "        ), size=13, transform=ax[iteration, 0].transAxes)\n",
    "\n",
    "    # Add [0, 1] and [1, 1] subplot titles\n",
    "    ax[0, 1].text(0, 1.4, 'Superimposed Pattern:', size=14, transform=ax[0, 1].transAxes)\n",
    "    ax[0, 1].text(0, 1.11, r'$W_1(x, t) \\ \\ and \\ \\ W_2(x, t)$', size=14, transform=ax[0, 1].transAxes)\n",
    "    ax[1, 1].text(0, 1.4, 'Superposition:', size=14, transform=ax[1, 1].transAxes)\n",
    "    ax[1, 1].text(0, 1.11, r'$W_R(x, t) = W_1(x, t) + W_2(x, t)$', size=14, transform=ax[1, 1].transAxes)\n",
    "\n",
    "    # Add x-axis, y-axis labels\n",
    "    fig.supylabel('Displacement (m)', x=0.06, size=14)\n",
    "    fig.supxlabel('Position (m)', y=0.04, size=14)\n",
    "\n",
    "    # Create and display the animation\n",
    "    animation = FuncAnimation(fig, update, frames=200, interval=25, blit=True)\n",
    "\n",
    "    # animation.save('sine_wave_superposition_2.gif', writer='pillow', fps=30, dpi=120)  # Save animation (.gif)\n",
    "    plt.show()\n",
    "    return animation\n"
   ]
  },
  {
   "cell_type": "markdown",
   "id": "78e06752",
   "metadata": {},
   "source": [
    "| Parameter     | Description                                              | Type            |\n",
    "|:--------------|:---------------------------------------------------------|:----------------|\n",
    "| wave_1_params | $W_1$: Wave 1 model parameters                           | dictionary      |\n",
    "| wave_2_params | $W_2$: Wave 2 model parameters                           | dictionary      |\n",
    "| dark_theme    | Dark Theme: If True, uses a dark background for the plot | bool (optional) |\n"
   ]
  },
  {
   "cell_type": "markdown",
   "id": "e21d79b8",
   "metadata": {},
   "source": [
    "<font color='#f6f6f6'>█████████████████████████████████████████████████████████████████████████████████████</font>"
   ]
  },
  {
   "cell_type": "markdown",
   "id": "69a68bcd",
   "metadata": {},
   "source": [
    "###  Modeling of sine wave superposition phenomena and interference patterns"
   ]
  },
  {
   "cell_type": "code",
   "execution_count": 5,
   "id": "01c9dc2a",
   "metadata": {},
   "outputs": [],
   "source": [
    "%matplotlib tk\n",
    "plt.rcParams['figure.dpi'] = 90"
   ]
  },
  {
   "cell_type": "code",
   "execution_count": 6,
   "id": "9108755a",
   "metadata": {},
   "outputs": [
    {
     "data": {
      "text/plain": [
       "<matplotlib.animation.FuncAnimation at 0x26e22227290>"
      ]
     },
     "execution_count": 6,
     "metadata": {},
     "output_type": "execute_result"
    }
   ],
   "source": [
    "# 1. Standing waves\n",
    "plot_wave_superposition(\n",
    "    wave_1_params={'A': 5, 'wavelength': 10, 'frequency': 90, 'phi': 0,\n",
    "                   'propagation': 'right', 'phase_polarity': 'positive'},\n",
    "    wave_2_params={'A': 5, 'wavelength': 10, 'frequency': 90, 'phi': 0,\n",
    "                   'propagation': 'left', 'phase_polarity': 'positive'},\n",
    "    dark_theme=True\n",
    ")"
   ]
  },
  {
   "cell_type": "code",
   "execution_count": 7,
   "id": "22a0a955",
   "metadata": {},
   "outputs": [
    {
     "data": {
      "text/plain": [
       "<matplotlib.animation.FuncAnimation at 0x26e247a4a50>"
      ]
     },
     "execution_count": 7,
     "metadata": {},
     "output_type": "execute_result"
    }
   ],
   "source": [
    "# 2. Wave beats\n",
    "plot_wave_superposition(\n",
    "    wave_1_params={'A': 5, 'wavelength': 4, 'frequency': 10, 'phi': 0,\n",
    "                   'propagation': 'right', 'phase_polarity': 'positive'},\n",
    "    wave_2_params={'A': 5, 'wavelength': 5, 'frequency': 20, 'phi': 0,\n",
    "                   'propagation': 'right', 'phase_polarity': 'positive'},\n",
    "    dark_theme=True\n",
    ")"
   ]
  },
  {
   "cell_type": "code",
   "execution_count": 8,
   "id": "272f7b90",
   "metadata": {},
   "outputs": [
    {
     "data": {
      "text/plain": [
       "<matplotlib.animation.FuncAnimation at 0x26e249df290>"
      ]
     },
     "execution_count": 8,
     "metadata": {},
     "output_type": "execute_result"
    }
   ],
   "source": [
    "# 3. Constructive Interference\n",
    "plot_wave_superposition(\n",
    "    wave_1_params={'A': 10, 'wavelength': 10, 'frequency': 90, 'phi': 0,\n",
    "                   'propagation': 'right', 'phase_polarity': 'positive'},\n",
    "    wave_2_params={'A': 5, 'wavelength': 10, 'frequency': 90, 'phi': 0,\n",
    "                   'propagation': 'right', 'phase_polarity': 'positive'},\n",
    "    dark_theme=True\n",
    ")"
   ]
  },
  {
   "cell_type": "code",
   "execution_count": 9,
   "id": "30509300",
   "metadata": {},
   "outputs": [
    {
     "data": {
      "text/plain": [
       "<matplotlib.animation.FuncAnimation at 0x26e26a2f290>"
      ]
     },
     "execution_count": 9,
     "metadata": {},
     "output_type": "execute_result"
    }
   ],
   "source": [
    "# 4. Destructive Interference\n",
    "plot_wave_superposition(\n",
    "    wave_1_params={'A': 10, 'wavelength': 10, 'frequency': 90, 'phi': 0,\n",
    "                   'propagation': 'right', 'phase_polarity': 'positive'},\n",
    "    wave_2_params={'A': 5, 'wavelength': 10, 'frequency': 90, 'phi': np.pi,\n",
    "                   'propagation': 'right', 'phase_polarity': 'positive'},\n",
    "    dark_theme=True\n",
    ")"
   ]
  },
  {
   "cell_type": "code",
   "execution_count": 10,
   "id": "4add6ea5",
   "metadata": {},
   "outputs": [
    {
     "data": {
      "text/plain": [
       "<matplotlib.animation.FuncAnimation at 0x26e24614a50>"
      ]
     },
     "execution_count": 10,
     "metadata": {},
     "output_type": "execute_result"
    }
   ],
   "source": [
    "# 5. Perfect Destructive Interference (Cancellation)\n",
    "plot_wave_superposition(\n",
    "    wave_1_params={'A': 10, 'wavelength': 10, 'frequency': 90, 'phi': 0,\n",
    "                   'propagation': 'right', 'phase_polarity': 'positive'},\n",
    "    wave_2_params={'A': 10, 'wavelength': 10, 'frequency': 90, 'phi': np.pi,\n",
    "                   'propagation': 'right', 'phase_polarity': 'positive'},\n",
    "    dark_theme=True\n",
    ")"
   ]
  },
  {
   "cell_type": "code",
   "execution_count": 11,
   "id": "6ccbe93b",
   "metadata": {},
   "outputs": [
    {
     "data": {
      "text/plain": [
       "<matplotlib.animation.FuncAnimation at 0x26e273fca50>"
      ]
     },
     "execution_count": 11,
     "metadata": {},
     "output_type": "execute_result"
    }
   ],
   "source": [
    "# 6. Fundamental Frequency + 2nd Harmonic\n",
    "plot_wave_superposition(\n",
    "    wave_1_params={'A': 5, 'wavelength': 4, 'frequency': 90, 'phi': 0,\n",
    "                   'propagation': 'right', 'phase_polarity': 'positive'},\n",
    "    wave_2_params={'A': 2.5, 'wavelength': 2, 'frequency': 180, 'phi': 0,\n",
    "                   'propagation': 'right', 'phase_polarity': 'positive'},\n",
    "    dark_theme=True\n",
    ")"
   ]
  },
  {
   "cell_type": "code",
   "execution_count": 12,
   "id": "9842b7d6",
   "metadata": {},
   "outputs": [
    {
     "data": {
      "text/plain": [
       "<matplotlib.animation.FuncAnimation at 0x26e2740ca50>"
      ]
     },
     "execution_count": 12,
     "metadata": {},
     "output_type": "execute_result"
    }
   ],
   "source": [
    "# 7. General superposition\n",
    "plot_wave_superposition(\n",
    "    wave_1_params={'A': 10, 'wavelength': 6, 'frequency': 90, 'phi': 0,\n",
    "                   'propagation': 'right', 'phase_polarity': 'positive'},\n",
    "    wave_2_params={'A': 5, 'wavelength': 10, 'frequency': 110, 'phi': 0,\n",
    "                   'propagation': 'left', 'phase_polarity': 'negative'},\n",
    "    dark_theme=True\n",
    ")"
   ]
  },
  {
   "cell_type": "code",
   "execution_count": null,
   "id": "a4e48f0b",
   "metadata": {},
   "outputs": [],
   "source": []
  }
 ],
 "metadata": {
  "kernelspec": {
   "display_name": "py-main (Python 3.11.4)",
   "language": "python",
   "name": "py-main"
  },
  "language_info": {
   "codemirror_mode": {
    "name": "ipython",
    "version": 3
   },
   "file_extension": ".py",
   "mimetype": "text/x-python",
   "name": "python",
   "nbconvert_exporter": "python",
   "pygments_lexer": "ipython3",
   "version": "3.11.4"
  }
 },
 "nbformat": 4,
 "nbformat_minor": 5
}
